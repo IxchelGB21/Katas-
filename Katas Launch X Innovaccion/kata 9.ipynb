{
 "cells": [
  {
   "cell_type": "markdown",
   "metadata": {},
   "source": [
    "## kata 9\n",
    "Ejercico 1: Trabaja con argumentos en funciones"
   ]
  },
  {
   "cell_type": "code",
   "execution_count": 4,
   "metadata": {},
   "outputs": [
    {
     "name": "stdout",
     "output_type": "stream",
     "text": [
      " Combustibles:\n",
      "    Promedio: 62.0%\n",
      "    Lectura 1: 56%\n",
      "    Lectura2: 88%\n",
      "    Lectura3:42%\n",
      "    \n"
     ]
    }
   ],
   "source": [
    "def lec_combustible (lect1,lect2,lect3):\n",
    "    prom= (lect1+lect2+lect3)/3\n",
    "    return f\"\"\" Combustibles:\n",
    "    Promedio: {prom}%\n",
    "    Lectura 1: {lect1}%\n",
    "    Lectura2: {lect2}%\n",
    "    Lectura3:{lect3}%\n",
    "    \"\"\"\n",
    "\n",
    "print(lec_combustible(56,88,42))"
   ]
  },
  {
   "cell_type": "code",
   "execution_count": 17,
   "metadata": {},
   "outputs": [],
   "source": [
    "def promedio(valor):\n",
    "    total= sum(valor)\n",
    "    num_lec= len(valor)\n",
    "    return total/num_lec\n",
    "\n"
   ]
  },
  {
   "cell_type": "code",
   "execution_count": 18,
   "metadata": {},
   "outputs": [
    {
     "name": "stdout",
     "output_type": "stream",
     "text": [
      " Combustibles:\n",
      "    Promedio: 62.0%\n",
      "    Lectura 1: 56%\n",
      "    Lectura2: 88%\n",
      "    Lectura3:42%\n",
      "    \n"
     ]
    }
   ],
   "source": [
    "def lec_combustible (lect1,lect2,lect3):\n",
    "    return f\"\"\" Combustibles:\n",
    "    Promedio: {promedio([lect1,lect2,lect3])}%\n",
    "    Lectura 1: {lect1}%\n",
    "    Lectura2: {lect2}%\n",
    "    Lectura3:{lect3}%\n",
    "    \"\"\"\n",
    "\n",
    "print(lec_combustible(56,88,42))"
   ]
  },
  {
   "cell_type": "markdown",
   "metadata": {},
   "source": [
    "##\n",
    "Ejercicio 2:Trabajo con argumentos de palabras clave"
   ]
  },
  {
   "cell_type": "code",
   "execution_count": 1,
   "metadata": {},
   "outputs": [],
   "source": [
    "def reporte(pre_lanz,tim_vuelo,destino, lect1,lect2):\n",
    "    return f\"\"\"\n",
    "    La misión se llevara a cabo en {destino}\n",
    "    Tiempo de llegada{pre_lanz+tim_vuelo} minutos\n",
    "    Combustible sobrante{lect1,lect2} galleones\n",
    "    \"\"\""
   ]
  },
  {
   "cell_type": "code",
   "execution_count": 3,
   "metadata": {},
   "outputs": [
    {
     "name": "stdout",
     "output_type": "stream",
     "text": [
      "\n",
      "    La misión se llevara a cabo en Luna\n",
      "    Tiempo de llegada 76 minutos\n",
      "    Combustible sobrante 230000 galleones\n",
      "    \n"
     ]
    }
   ],
   "source": [
    "def reporte (destino, *minutes, **fuel_reservoirs):\n",
    "    return f\"\"\"\n",
    "    La misión se llevara a cabo en {destino}\n",
    "    Tiempo de llegada {sum(minutes)} minutos\n",
    "    Combustible sobrante {sum(fuel_reservoirs.values())} galleones\n",
    "    \"\"\"\n",
    "print(reporte(\"Luna\",10,15,51,lect1=30000,lect2=200000))"
   ]
  },
  {
   "cell_type": "code",
   "execution_count": 4,
   "metadata": {},
   "outputs": [
    {
     "name": "stdout",
     "output_type": "stream",
     "text": [
      "\n",
      "    La misión se llevara a cabo en Luna\n",
      "    Tiempo de llegada 74 minutos\n",
      "    Combustible sobrante 500000 galleones\n",
      "    lect1 tank --> 300000 gallones sobrantes\n",
      "lect2 tank --> 200000 gallones sobrantes\n",
      "\n"
     ]
    }
   ],
   "source": [
    "def reporte (destino, *minutes, **fuel_reservoirs):\n",
    "    principal= f\"\"\"\n",
    "    La misión se llevara a cabo en {destino}\n",
    "    Tiempo de llegada {sum(minutes)} minutos\n",
    "    Combustible sobrante {sum(fuel_reservoirs.values())} galleones\n",
    "    \"\"\"\n",
    "    for tanque, gallones in fuel_reservoirs.items():\n",
    "     principal +=  f\"{tanque} tank --> {gallones} gallones sobrantes\\n\"\n",
    "    return principal\n",
    "print(reporte(\"Luna\",8,11,55,lect1=300000,lect2=200000))\n",
    "\n"
   ]
  }
 ],
 "metadata": {
  "interpreter": {
   "hash": "b389b0c98f28412c0d0f471a709f13e293f29ccaa639c708c1d47bab9bec5794"
  },
  "kernelspec": {
   "display_name": "Python 3.10.2 64-bit",
   "language": "python",
   "name": "python3"
  },
  "language_info": {
   "codemirror_mode": {
    "name": "ipython",
    "version": 3
   },
   "file_extension": ".py",
   "mimetype": "text/x-python",
   "name": "python",
   "nbconvert_exporter": "python",
   "pygments_lexer": "ipython3",
   "version": "3.10.2"
  },
  "orig_nbformat": 4
 },
 "nbformat": 4,
 "nbformat_minor": 2
}
