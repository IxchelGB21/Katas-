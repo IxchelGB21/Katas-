{
 "cells": [
  {
   "cell_type": "markdown",
   "metadata": {},
   "source": [
    "## Kata 6\n",
    "\n",
    "Ejercicio 1: Crear y usar listas de python"
   ]
  },
  {
   "cell_type": "code",
   "execution_count": 6,
   "metadata": {},
   "outputs": [
    {
     "name": "stdout",
     "output_type": "stream",
     "text": [
      "Numero de planetas es 8\n"
     ]
    }
   ],
   "source": [
    "planets=['Mercurio','Venus','Tierra','Marte','Jupiter','Saturno','Urano','Neptuno']\n",
    "num_planetas=len(planets)\n",
    "print('Numero de planetas es', num_planetas)"
   ]
  },
  {
   "cell_type": "code",
   "execution_count": 8,
   "metadata": {},
   "outputs": [
    {
     "name": "stdout",
     "output_type": "stream",
     "text": [
      "El numero de planetas es 10 y el ultimo planeta es Pluton\n"
     ]
    }
   ],
   "source": [
    "planets.append('Pluton')\n",
    "num_planetas=len(planets)\n",
    "print('El numero de planetas es', num_planetas,'y el ultimo planeta es', planets[8])\n",
    "\n"
   ]
  },
  {
   "cell_type": "markdown",
   "metadata": {},
   "source": [
    "##\n",
    "Ejercicio 2: Trabajando con datos de una lista"
   ]
  },
  {
   "cell_type": "code",
   "execution_count": 16,
   "metadata": {},
   "outputs": [
    {
     "name": "stdout",
     "output_type": "stream",
     "text": [
      "Planetas cercanos al sol ['Mercury', 'Venus']\n",
      "Planetas mas alejados al son ['Mars', 'Jupiter', 'Saturn', 'Neptune']\n"
     ]
    }
   ],
   "source": [
    "# Lista de planetas\n",
    "planets = ['Mercury', 'Venus', 'Earth', 'Mars', 'Jupiter', 'Saturn', 'Neptune']\n",
    "cadena=input(\"Inserta el nombre de un planeta empezando con mayuscula la primera letra\")\n",
    "cerca=planets.index(cadena)\n",
    "print(f'Planetas cercanos al sol {planets[0:cerca]}')\n",
    "print(f'Planetas mas alejados al son {planets[cerca+1:]}')"
   ]
  }
 ],
 "metadata": {
  "interpreter": {
   "hash": "b389b0c98f28412c0d0f471a709f13e293f29ccaa639c708c1d47bab9bec5794"
  },
  "kernelspec": {
   "display_name": "Python 3.10.2 64-bit",
   "language": "python",
   "name": "python3"
  },
  "language_info": {
   "codemirror_mode": {
    "name": "ipython",
    "version": 3
   },
   "file_extension": ".py",
   "mimetype": "text/x-python",
   "name": "python",
   "nbconvert_exporter": "python",
   "pygments_lexer": "ipython3",
   "version": "3.10.2"
  },
  "orig_nbformat": 4
 },
 "nbformat": 4,
 "nbformat_minor": 2
}
