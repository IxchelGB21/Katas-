{
 "cells": [
  {
   "cell_type": "code",
   "execution_count": null,
   "metadata": {},
   "outputs": [],
   "source": []
  },
  {
   "cell_type": "markdown",
   "metadata": {},
   "source": [
    "# Kata 3"
   ]
  },
  {
   "cell_type": "code",
   "execution_count": 1,
   "metadata": {},
   "outputs": [
    {
     "name": "stdout",
     "output_type": "stream",
     "text": [
      "!Advertencia¡ Asteroide a velocidades peligrosas\n"
     ]
    }
   ],
   "source": [
    "asteroide = 49\n",
    "if asteroide > 25:\n",
    "    print('!Advertencia¡ Asteroide a velocidades peligrosas')\n",
    "else:\n",
    "    print('Fuera de peligro')"
   ]
  },
  {
   "cell_type": "code",
   "execution_count": 23,
   "metadata": {},
   "outputs": [
    {
     "name": "stdout",
     "output_type": "stream",
     "text": [
      "No hay asteroides visibles\n"
     ]
    }
   ],
   "source": [
    "asteroide=19\n",
    "if asteroide >= 20:\n",
    " print('Asteroide a la vista, sal a verlo')\n",
    "elif asteroide < 20:\n",
    " print('No hay asteroides visibles')\n",
    "else: \n",
    "  print ('No hay asteroides por el momento')"
   ]
  },
  {
   "cell_type": "code",
   "execution_count": 2,
   "metadata": {},
   "outputs": [
    {
     "name": "stdout",
     "output_type": "stream",
     "text": [
      "Asteriode a la vista, sal a verlo\n"
     ]
    }
   ],
   "source": [
    "Vel_Asteroide=25\n",
    "Asteroide_tamaño=40\n",
    "if Asteroide_tamaño>25 and Vel_Asteroide>25:\n",
    "    print('!Alerta! Daño al impacto con la Tierra')\n",
    "elif Vel_Asteroide>=20:\n",
    "    print('Asteriode a la vista, sal a verlo')\n",
    "else:\n",
    "    print('No hay asteroides')\n"
   ]
  }
 ],
 "metadata": {
  "interpreter": {
   "hash": "b389b0c98f28412c0d0f471a709f13e293f29ccaa639c708c1d47bab9bec5794"
  },
  "kernelspec": {
   "display_name": "Python 3.10.2 64-bit",
   "language": "python",
   "name": "python3"
  },
  "language_info": {
   "codemirror_mode": {
    "name": "ipython",
    "version": 3
   },
   "file_extension": ".py",
   "mimetype": "text/x-python",
   "name": "python",
   "nbconvert_exporter": "python",
   "pygments_lexer": "ipython3",
   "version": "3.10.2"
  },
  "orig_nbformat": 4
 },
 "nbformat": 4,
 "nbformat_minor": 2
}
