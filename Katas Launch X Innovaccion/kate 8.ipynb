{
 "cells": [
  {
   "cell_type": "markdown",
   "metadata": {},
   "source": [
    "## Kata 8\n",
    "Ejercicio 1:Creación de diccionarios de python"
   ]
  },
  {
   "cell_type": "code",
   "execution_count": 9,
   "metadata": {},
   "outputs": [
    {
     "name": "stdout",
     "output_type": "stream",
     "text": [
      "Nombre del planeta Mars\n",
      "Número de lunas 1\n"
     ]
    }
   ],
   "source": [
    "planet = {\n",
    "    'name': 'Mars',\n",
    "    'moons': 1\n",
    "    }\n",
    "print('Nombre del planeta',planet.get('name'))\n",
    "print('Número de lunas',planet.get('moons'))"
   ]
  },
  {
   "cell_type": "code",
   "execution_count": 13,
   "metadata": {},
   "outputs": [
    {
     "name": "stdout",
     "output_type": "stream",
     "text": [
      "Nombre del planeta Mars y si circunferencia es {'polar': 6752, 'equatorial': 6792}\n"
     ]
    }
   ],
   "source": [
    "planet['circunferencia(km)']={\n",
    "    'polar': 6752,\n",
    "    'equatorial':6792\n",
    "}\n",
    "\n",
    "print('Nombre del planeta',planet.get('name'), 'y si circunferencia es', planet.get('circunferencia(km)'))"
   ]
  },
  {
   "cell_type": "markdown",
   "metadata": {},
   "source": [
    "##\n",
    "Ejercicio 2: Programación dinamica con diccionarios"
   ]
  },
  {
   "cell_type": "code",
   "execution_count": 1,
   "metadata": {},
   "outputs": [],
   "source": [
    "# Planets and moons\n",
    "\n",
    "planet_moons = {\n",
    "    'mercury': 0,\n",
    "    'venus': 0,\n",
    "    'earth': 1,\n",
    "    'mars': 2,\n",
    "    'jupiter': 79,\n",
    "    'saturn': 82,\n",
    "    'uranus': 27,\n",
    "    'neptune': 14,\n",
    "    'pluto': 5,\n",
    "    'haumea': 2,\n",
    "    'makemake': 1,\n",
    "    'eris': 1\n",
    "}"
   ]
  },
  {
   "cell_type": "code",
   "execution_count": 4,
   "metadata": {},
   "outputs": [
    {
     "name": "stdout",
     "output_type": "stream",
     "text": [
      "el total de lunas es 214\n",
      "el promedio de lunas es 17.833333333333332\n"
     ]
    }
   ],
   "source": [
    "planets=len(planet_moons.values())\n",
    "moons=planet_moons.values()\n",
    "\n",
    "total_moons=0\n",
    "for moons in moons:\n",
    "    total_moons=total_moons+moons\n",
    "\n",
    "promedio=total_moons/planets\n",
    "\n",
    "print(f'el total de lunas es {total_moons}')\n",
    "print(f'el promedio de lunas es {promedio}')"
   ]
  }
 ],
 "metadata": {
  "interpreter": {
   "hash": "b389b0c98f28412c0d0f471a709f13e293f29ccaa639c708c1d47bab9bec5794"
  },
  "kernelspec": {
   "display_name": "Python 3.10.2 64-bit",
   "language": "python",
   "name": "python3"
  },
  "language_info": {
   "codemirror_mode": {
    "name": "ipython",
    "version": 3
   },
   "file_extension": ".py",
   "mimetype": "text/x-python",
   "name": "python",
   "nbconvert_exporter": "python",
   "pygments_lexer": "ipython3",
   "version": "3.10.2"
  },
  "orig_nbformat": 4
 },
 "nbformat": 4,
 "nbformat_minor": 2
}
