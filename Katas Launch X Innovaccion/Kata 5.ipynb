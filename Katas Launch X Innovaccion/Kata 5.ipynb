{
 "cells": [
  {
   "cell_type": "code",
   "execution_count": null,
   "metadata": {},
   "outputs": [],
   "source": []
  },
  {
   "cell_type": "markdown",
   "metadata": {},
   "source": [
    "## Kata 5\n",
    "\n",
    "Ejercicio 1. Utiliza operadores matematicos"
   ]
  },
  {
   "cell_type": "code",
   "execution_count": 10,
   "metadata": {},
   "outputs": [
    {
     "name": "stdout",
     "output_type": "stream",
     "text": [
      "628949330 km\n",
      "390577534 millas\n"
     ]
    }
   ],
   "source": [
    "tierra=149597870 #km\n",
    "jupiter=778547200 #km\n",
    "\n",
    "Distancia_km=round(abs(tierra-jupiter))\n",
    "print(f'{Distancia_km} km' )\n",
    "Distancia_millas=round(abs(tierra-jupiter)*0.621)\n",
    "print(f'{Distancia_millas} millas') "
   ]
  },
  {
   "cell_type": "markdown",
   "metadata": {},
   "source": [
    "##\n",
    "Ejercicio 2. Convierte cadenas en números y entrada de usuario"
   ]
  },
  {
   "cell_type": "code",
   "execution_count": 14,
   "metadata": {},
   "outputs": [
    {
     "name": "stdout",
     "output_type": "stream",
     "text": [
      "3061600000 km\n",
      "1901253600 millas\n"
     ]
    }
   ],
   "source": [
    "var1=input(\"Inserta la distancia del sol al planeta 1\")\n",
    "var2=input(\"Inserta la distancia del sol al planeta 2\")\n",
    "\n",
    "var1=int(var1)\n",
    "var2=int(var2)\n",
    "\n",
    "Distancia_km=round(abs(var1-var2))\n",
    "print(f'{Distancia_km} km' )\n",
    "Distancia_millas=round(abs(var1-var2)*0.621)\n",
    "print(f'{Distancia_millas} millas') "
   ]
  }
 ],
 "metadata": {
  "interpreter": {
   "hash": "b389b0c98f28412c0d0f471a709f13e293f29ccaa639c708c1d47bab9bec5794"
  },
  "kernelspec": {
   "display_name": "Python 3.10.2 64-bit",
   "language": "python",
   "name": "python3"
  },
  "language_info": {
   "codemirror_mode": {
    "name": "ipython",
    "version": 3
   },
   "file_extension": ".py",
   "mimetype": "text/x-python",
   "name": "python",
   "nbconvert_exporter": "python",
   "pygments_lexer": "ipython3",
   "version": "3.10.2"
  },
  "orig_nbformat": 4
 },
 "nbformat": 4,
 "nbformat_minor": 2
}
